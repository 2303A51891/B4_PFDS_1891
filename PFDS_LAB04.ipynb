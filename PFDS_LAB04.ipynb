{
  "nbformat": 4,
  "nbformat_minor": 0,
  "metadata": {
    "colab": {
      "provenance": [],
      "authorship_tag": "ABX9TyNB5pU8u47NIAJWKEa0vBg2",
      "include_colab_link": true
    },
    "kernelspec": {
      "name": "python3",
      "display_name": "Python 3"
    },
    "language_info": {
      "name": "python"
    }
  },
  "cells": [
    {
      "cell_type": "markdown",
      "metadata": {
        "id": "view-in-github",
        "colab_type": "text"
      },
      "source": [
        "<a href=\"https://colab.research.google.com/github/2303A51891/B4_PFDS_1891/blob/main/PFDS_LAB04.ipynb\" target=\"_parent\"><img src=\"https://colab.research.google.com/assets/colab-badge.svg\" alt=\"Open In Colab\"/></a>"
      ]
    },
    {
      "cell_type": "code",
      "execution_count": 3,
      "metadata": {
        "colab": {
          "base_uri": "https://localhost:8080/"
        },
        "id": "Ma8jhxzd1Xxa",
        "outputId": "942f7c0b-7093-4c28-9bee-cafe6fecf564"
      },
      "outputs": [
        {
          "name": "stdout",
          "output_type": "stream",
          "text": [
            "Enter student_id:02\n",
            "Enter name: sai\n",
            "Enter Science marks: 85\n",
            "Enter English marks: 99\n",
            "Enter Maths marks: 96\n",
            "Enter student_id:03\n",
            "Enter name: subhani\n",
            "Enter Science marks: 75\n",
            "Enter English marks: 98\n",
            "Enter Maths marks: 96\n"
          ]
        }
      ],
      "source": [
        "import csv\n",
        "\n",
        "with open(\"student_scores.csv\", 'w', newline='') as fp:\n",
        "    wr = csv.writer(fp)\n",
        "    wr.writerow([\"student_id\",\"Name\", \"Science\", \"English\",\"Maths\"])\n",
        "    for i in range(2):\n",
        "        student_id=input(\"Enter student_id:\")\n",
        "        name = input(\"Enter name: \")\n",
        "\n",
        "        Science = int(input(\"Enter Science marks: \"))\n",
        "        English = int(input(\"Enter English marks: \"))\n",
        "        Maths = int(input(\"Enter Maths marks: \"))\n",
        "        wr.writerow([student_id,name, Science, English,Maths])"
      ]
    },
    {
      "cell_type": "code",
      "source": [
        "import csv\n",
        "\n",
        "with open(\"student_scores.csv\", 'r') as file:\n",
        "    csv_reader = csv.reader(file)\n",
        "    for row in csv_reader:\n",
        "        print(row)"
      ],
      "metadata": {
        "colab": {
          "base_uri": "https://localhost:8080/"
        },
        "id": "s7L0JXMXHPwE",
        "outputId": "79bc5a72-f7c3-409c-b269-52855b047473"
      },
      "execution_count": 4,
      "outputs": [
        {
          "output_type": "stream",
          "name": "stdout",
          "text": [
            "['student_id', 'Name', 'Science', 'English', 'Maths']\n",
            "['02', 'sai', '85', '99', '96']\n",
            "['03', 'subhani', '75', '98', '96']\n"
          ]
        }
      ]
    },
    {
      "cell_type": "code",
      "source": [
        "import csv\n",
        "with open(\"hospital_records.csv\",'w', newline = '') as fp:\n",
        "  wr = csv.writer(fp)\n",
        "  wr.writerow([\"Patient_ID\", \"Name\", \"Age\", \"Gender\",\n",
        "\"Diagnosis\", \"Admission_Date\"])\n",
        "  for i in range(3):\n",
        "    Patient_ID = int(input(\"Enter Patient ID: \"))\n",
        "    Name = input(\"Enter Patient Name: \")\n",
        "    Age = int(input(\"Enter Patient Age: \"))\n",
        "    Gender = input(\"Enter Patient Gender: \")\n",
        "    Diagnosis = input(\"Enter Patient Diagnosis: \")\n",
        "    Admission_Date = input(\"Enter Patient Admission Date: \")\n",
        "    wr.writerow([Patient_ID, Name, Age, Gender,\n",
        "Diagnosis, Admission_Date])"
      ],
      "metadata": {
        "colab": {
          "base_uri": "https://localhost:8080/"
        },
        "id": "hO02PP-ZR7z6",
        "outputId": "bd68ba45-34b9-4ef6-dae8-3417e5cfa3c4"
      },
      "execution_count": null,
      "outputs": [
        {
          "name": "stdout",
          "output_type": "stream",
          "text": [
            "Enter Patient ID: 88\n",
            "Enter Patient Name: subhani\n",
            "Enter Patient Age: 20\n",
            "Enter Patient Gender: m\n",
            "Enter Patient Diagnosis: ww\n",
            "Enter Patient Admission Date: 22\n"
          ]
        }
      ]
    },
    {
      "cell_type": "code",
      "source": [
        "import csv\n",
        "with open(\"hospital_records.csv\",'r') as fp:\n",
        "  rd = csv.reader(fp)\n",
        "  for row in rd:\n",
        "    print(row)"
      ],
      "metadata": {
        "colab": {
          "base_uri": "https://localhost:8080/"
        },
        "id": "9phVY-mCSD-g",
        "outputId": "4ecc9392-130b-49ae-c92c-b5e485783900"
      },
      "execution_count": 6,
      "outputs": [
        {
          "output_type": "stream",
          "name": "stdout",
          "text": [
            "['Patient_ID', 'Name', 'Age', 'Gender', 'Diagnosis', 'Admission_Date']\n"
          ]
        }
      ]
    }
  ]
}